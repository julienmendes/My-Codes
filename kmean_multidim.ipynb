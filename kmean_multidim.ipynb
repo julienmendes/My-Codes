{
 "cells": [
  {
   "cell_type": "code",
   "execution_count": 1,
   "metadata": {},
   "outputs": [],
   "source": [
    "import numpy as np\n",
    "import pandas as pd"
   ]
  },
  {
   "cell_type": "code",
   "execution_count": 2,
   "metadata": {},
   "outputs": [],
   "source": [
    "def centroid(data):\n",
    "    var = data.columns\n",
    "    m = len(var)\n",
    "    l = []\n",
    "    for i in range(m):\n",
    "        l.append(var[i])\n",
    "        l[i] = np.mean(data[var[i]])\n",
    "    return l"
   ]
  },
  {
   "cell_type": "code",
   "execution_count": 3,
   "metadata": {},
   "outputs": [],
   "source": [
    "def graphcentre(data,nb_class,nbvar):\n",
    "    v = locals()\n",
    "    cen = []\n",
    "    for i in range(nb_class):\n",
    "        d = data.where(data.iloc[:,-1]==i)\n",
    "        v['c%d' % i] = centroid(d.iloc[:,:nbvar])\n",
    "        cen.append(v['c%d' % i])\n",
    "    return cen"
   ]
  },
  {
   "cell_type": "code",
   "execution_count": 4,
   "metadata": {},
   "outputs": [],
   "source": [
    "def dist(data,centre):\n",
    "    dist=0\n",
    "    for i in range(len(data)):\n",
    "        dist = dist + (centre[i]-data[i])**2\n",
    "    dist = np.sqrt(dist)\n",
    "    return dist"
   ]
  },
  {
   "cell_type": "code",
   "execution_count": 5,
   "metadata": {},
   "outputs": [],
   "source": [
    "def kmean(data,nbvar,nb_class):\n",
    "    l = 0\n",
    "    m = 1\n",
    "    count = 0\n",
    "    while l != m:\n",
    "        if count > 0:\n",
    "            l = [sum(centre[i]) for i in range(4)]\n",
    "        centre = graphcentre(data,nb_class,nbvar)\n",
    "        m = [sum(centre[i]) for i in range(4)]\n",
    "        di = []\n",
    "        v = locals()\n",
    "        for j in range(nb_class):\n",
    "            v['dist%d' % j] = np.zeros((len(data),1))\n",
    "            for i in range(len(data)):\n",
    "                v['dist%d' % j][i] = dist(data.iloc[i,:nbvar],centre[j])\n",
    "            di.append(v['dist%d' % j])\n",
    "    \n",
    "        label = []    \n",
    "        for i in range(len(data)):\n",
    "            sel = []\n",
    "            for j in range(nb_class):\n",
    "                element = di[j]\n",
    "                sel.append(element[i])\n",
    "            label.append(sel.index(np.min(sel)))\n",
    "\n",
    "        data['predict_label'] = label\n",
    "        count += 1\n",
    "    print(count)"
   ]
  },
  {
   "cell_type": "code",
   "execution_count": null,
   "metadata": {},
   "outputs": [],
   "source": []
  }
 ],
 "metadata": {
  "kernelspec": {
   "display_name": "Python 3",
   "language": "python",
   "name": "python3"
  },
  "language_info": {
   "codemirror_mode": {
    "name": "ipython",
    "version": 3
   },
   "file_extension": ".py",
   "mimetype": "text/x-python",
   "name": "python",
   "nbconvert_exporter": "python",
   "pygments_lexer": "ipython3",
   "version": "3.6.4"
  }
 },
 "nbformat": 4,
 "nbformat_minor": 4
}
